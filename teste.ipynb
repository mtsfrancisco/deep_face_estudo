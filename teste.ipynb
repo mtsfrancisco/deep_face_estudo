{
 "cells": [
  {
   "cell_type": "code",
   "execution_count": 4,
   "metadata": {},
   "outputs": [],
   "source": [
    "from deepface import DeepFace\n",
    "import os\n",
    "import pandas as pd\n",
    "\n",
    "\n",
    "backends = [\n",
    "  'opencv', \n",
    "  'ssd', \n",
    "  'dlib', \n",
    "  'mtcnn', \n",
    "  'fastmtcnn',\n",
    "  'retinaface', \n",
    "  'mediapipe',\n",
    "  'yolov8',\n",
    "  'yunet',\n",
    "  'centerface',\n",
    "]"
   ]
  },
  {
   "cell_type": "code",
   "execution_count": 12,
   "metadata": {},
   "outputs": [
    {
     "name": "stdout",
     "output_type": "stream",
     "text": [
      "25-02-13 10:45:02 - Searching photo.jpg in 2 length datastore\n",
      "25-02-13 10:45:03 - find function duration 1.346153974533081 seconds\n",
      "0    user/database/Matheus/Matheus1.jpg\n",
      "Name: identity, dtype: object\n"
     ]
    }
   ],
   "source": [
    "dfs = DeepFace.find(\n",
    "  model_name='Facenet512',\n",
    "  img_path = \"photo.jpg\", \n",
    "  db_path = \"local_database/users\", \n",
    "  detector_backend = backends[1],\n",
    "  align = True,\n",
    ")\n",
    "\n",
    "print(dfs[0].identity)"
   ]
  }
 ],
 "metadata": {
  "kernelspec": {
   "display_name": ".venv",
   "language": "python",
   "name": "python3"
  },
  "language_info": {
   "codemirror_mode": {
    "name": "ipython",
    "version": 3
   },
   "file_extension": ".py",
   "mimetype": "text/x-python",
   "name": "python",
   "nbconvert_exporter": "python",
   "pygments_lexer": "ipython3",
   "version": "3.11.0"
  }
 },
 "nbformat": 4,
 "nbformat_minor": 2
}
